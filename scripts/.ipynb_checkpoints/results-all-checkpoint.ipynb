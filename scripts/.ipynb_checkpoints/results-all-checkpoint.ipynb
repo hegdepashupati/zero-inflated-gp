{
 "cells": [
  {
   "cell_type": "code",
   "execution_count": 1,
   "metadata": {},
   "outputs": [],
   "source": [
    "import os\n",
    "import numpy as np\n",
    "import matplotlib.pyplot as plt\n",
    "import matplotlib as mpl\n",
    "import pickle\n",
    "import glob\n",
    "import pandas as pd\n",
    "from sklearn.metrics import classification_report, confusion_matrix\n",
    "from sklearn.metrics import precision_recall_curve\n",
    "import matplotlib.pyplot as plt\n",
    "from sklearn.metrics import average_precision_score"
   ]
  },
  {
   "cell_type": "code",
   "execution_count": 2,
   "metadata": {},
   "outputs": [],
   "source": [
    "def print_cm(actual, pred):\n",
    "    print(pd.crosstab(pd.Series(actual.astype('int').flatten()), pd.Series(pred.astype('int').flatten()), rownames=['True'], colnames=['Predicted'], margins=True))"
   ]
  },
  {
   "cell_type": "code",
   "execution_count": 3,
   "metadata": {},
   "outputs": [],
   "source": [
    "hrundir = \"../models/run01_hz/5/\"\n",
    "orundir = \"../models/run01_gmean_2/5/\"\n",
    "srundir = \"../models/run01/5/\""
   ]
  },
  {
   "cell_type": "code",
   "execution_count": 4,
   "metadata": {},
   "outputs": [],
   "source": [
    "data = pickle.load(open(hrundir+\"data.pickle\",\"rb\"))\n",
    "Xtrain = data['Xtrain']\n",
    "Ytrain = data['Ytrain']\n",
    "Xtest = data['Xtest']\n",
    "Ytest = data['Ytest']\n",
    "\n",
    "Ytrain_ind = (Ytrain > 0.05) * 1\n",
    "Ytest_ind = (Ytest > 0.05) * 1"
   ]
  },
  {
   "cell_type": "code",
   "execution_count": 5,
   "metadata": {},
   "outputs": [],
   "source": [
    "clf_results = pickle.load(open(hrundir+\"results_scgp.pickle\",\"rb\"))\n",
    "zi_results  = pickle.load(open(hrundir+\"results_zi.pickle\",\"rb\"))\n",
    "hdl_results = pickle.load(open(hrundir+\"results_hurdle.pickle\",\"rb\"))\n",
    "svg_results = pickle.load(open(srundir+\"results_svgp.pickle\",\"rb\"))\n",
    "oog_results = pickle.load(open(orundir+\"results_onoff.pickle\",\"rb\"))"
   ]
  },
  {
   "cell_type": "code",
   "execution_count": 6,
   "metadata": {},
   "outputs": [],
   "source": [
    "train_clf_prob = clf_results['pred_train']['pfmean']\n",
    "test_clf_prob  = clf_results['pred_test']['pfmean']\n",
    "train_clf_indc = (train_clf_prob > 0.5) * 1.0\n",
    "test_clf_indc  = (test_clf_prob > 0.5) * 1.0\n",
    "\n",
    "train_zi_indc = (zi_results['pred_train_zi_indc'] > 1e-1) * 1\n",
    "test_zi_indc  = (zi_results['pred_test_zi_indc'] > 1e-1) * 1\n",
    "train_zi_reg = zi_results['pred_train_zi_indc']\n",
    "test_zi_reg  = zi_results['pred_test_zi_indc']\n",
    "\n",
    "train_00_indc = train_zi_reg*0.\n",
    "test_00_indc  = test_zi_reg*0.\n",
    "train_00_reg = train_zi_reg*0.\n",
    "test_00_reg  = test_zi_reg*0.\n",
    "\n",
    "\n",
    "train_hdl_indc  = (hdl_results['train_pred_hurdle_comb'] > 1e-1) * 1\n",
    "test_hdl_indc  = (hdl_results['test_pred_hurdle_comb'] > 1e-1) * 1\n",
    "train_hdl_reg  = hdl_results['train_pred_hurdle_comb']\n",
    "test_hdl_reg  = hdl_results['test_pred_hurdle_comb']\n",
    "\n",
    "train_svg_indc = (svg_results['pred_train']['fmean'] > 1e-1) * 1.0\n",
    "test_svg_indc  = (svg_results['pred_test']['fmean'] > 1e-1) * 1.0\n",
    "train_svg_reg = svg_results['pred_train']['fmean']\n",
    "test_svg_reg  = svg_results['pred_test']['fmean']\n",
    "\n",
    "train_oog_indc = (oog_results['pred_train']['gfmean'] > 0.1) * 1.0\n",
    "test_oog_indc  = (oog_results['pred_test']['gfmean'] > 0.1) * 1.0\n",
    "train_oog_reg = oog_results['pred_train']['gfmean']\n",
    "test_oog_reg  = oog_results['pred_test']['gfmean']"
   ]
  },
  {
   "cell_type": "code",
   "execution_count": 7,
   "metadata": {},
   "outputs": [],
   "source": [
    "def rmse(predict,actual):\n",
    "    predict = np.maximum(predict,0)\n",
    "    return np.sqrt(np.mean((actual-predict)**2))\n",
    "\n",
    "def mad(predict,actual):\n",
    "    predict = np.maximum(predict,0)\n",
    "    return np.mean(np.abs(actual-predict))\n",
    "\n",
    "def prmse(predict,actual):\n",
    "    idx = np.where(actual > 0.3)\n",
    "    predict = np.maximum(predict,0)\n",
    "    return np.sqrt(np.mean((actual[idx]-predict[idx])**2))\n",
    "\n",
    "def pmad(predict,actual):\n",
    "    idx = np.where(actual > 0.3)\n",
    "    predict = np.maximum(predict,0)\n",
    "    return np.mean(np.abs(actual[idx]-predict[idx]))"
   ]
  },
  {
   "cell_type": "markdown",
   "metadata": {},
   "source": [
    "** regression error summary**"
   ]
  },
  {
   "cell_type": "code",
   "execution_count": 8,
   "metadata": {},
   "outputs": [
    {
     "name": "stdout",
     "output_type": "stream",
     "text": [
      "rmse on train set for 00 : 0.598622864715\n",
      "mad on train set for 00  : 0.10375392647\n",
      "rmse on test set for 00  : 0.67934916323\n",
      "mad on test set for 00   : 0.105441755519\n",
      "\n",
      "positive rmse on train set for 00 : 2.48996101208\n",
      "positive mad on train set for 00  : 1.67549961568\n",
      "positive rmse on test set for 00  : 2.81506184137\n",
      "positive mad on test set for 00   : 1.68551829268\n"
     ]
    }
   ],
   "source": [
    "train_00_prob_reg_rmse = rmse(train_00_reg,Ytrain)\n",
    "print(\"rmse on train set for 00 : \"+str(train_00_prob_reg_rmse))\n",
    "train_00_prob_reg_mae = mad(train_00_reg,Ytrain)\n",
    "print(\"mad on train set for 00  : \"+str(train_00_prob_reg_mae))\n",
    "\n",
    "test_00_prob_reg_rmse = rmse(test_00_reg,Ytest)\n",
    "print(\"rmse on test set for 00  : \"+str(test_00_prob_reg_rmse))\n",
    "test_00_prob_reg_mae = mad(test_00_reg,Ytest)\n",
    "print(\"mad on test set for 00   : \"+str(test_00_prob_reg_mae))\n",
    "\n",
    "print(\"\")\n",
    "train_00_prob_reg_prmse = prmse(train_00_reg,Ytrain)\n",
    "print(\"positive rmse on train set for 00 : \"+str(train_00_prob_reg_prmse))\n",
    "train_00_prob_reg_mae = pmad(train_00_reg,Ytrain)\n",
    "print(\"positive mad on train set for 00  : \"+str(train_00_prob_reg_mae))\n",
    "\n",
    "test_00_prob_reg_prmse = prmse(test_00_reg,Ytest)\n",
    "print(\"positive rmse on test set for 00  : \"+str(test_00_prob_reg_prmse))\n",
    "test_00_prob_reg_mae = pmad(test_00_reg,Ytest)\n",
    "print(\"positive mad on test set for 00   : \"+str(test_00_prob_reg_mae))"
   ]
  },
  {
   "cell_type": "code",
   "execution_count": 9,
   "metadata": {},
   "outputs": [
    {
     "name": "stdout",
     "output_type": "stream",
     "text": [
      "rmse on train set for zi : 0.571572537102\n",
      "mad on train set for zi  : 0.101587297911\n",
      "rmse on test set for zi  : 0.65534658864\n",
      "mad on test set for zi   : 0.103907932746\n",
      "\n",
      "positive rmse on train set for zi : 2.35769853114\n",
      "positive mad on train set for zi  : 1.49975238583\n",
      "positive rmse on test set for zi  : 2.69706249838\n",
      "positive mad on test set for zi   : 1.51133201341\n"
     ]
    }
   ],
   "source": [
    "train_zi_prob_reg_rmse = rmse(train_zi_reg,Ytrain)\n",
    "print(\"rmse on train set for zi : \"+str(train_zi_prob_reg_rmse))\n",
    "train_zi_prob_reg_mae = mad(train_zi_reg,Ytrain)\n",
    "print(\"mad on train set for zi  : \"+str(train_zi_prob_reg_mae))\n",
    "\n",
    "test_zi_prob_reg_rmse = rmse(test_zi_reg,Ytest)\n",
    "print(\"rmse on test set for zi  : \"+str(test_zi_prob_reg_rmse))\n",
    "test_zi_prob_reg_mae = mad(test_zi_reg,Ytest)\n",
    "print(\"mad on test set for zi   : \"+str(test_zi_prob_reg_mae))\n",
    "\n",
    "print(\"\")\n",
    "train_zi_prob_reg_prmse = prmse(train_zi_reg,Ytrain)\n",
    "print(\"positive rmse on train set for zi : \"+str(train_zi_prob_reg_prmse))\n",
    "train_zi_prob_reg_mae = pmad(train_zi_reg,Ytrain)\n",
    "print(\"positive mad on train set for zi  : \"+str(train_zi_prob_reg_mae))\n",
    "\n",
    "test_zi_prob_reg_prmse = prmse(test_zi_reg,Ytest)\n",
    "print(\"positive rmse on test set for zi  : \"+str(test_zi_prob_reg_prmse))\n",
    "test_zi_prob_reg_mae = pmad(test_zi_reg,Ytest)\n",
    "print(\"positive mad on test set for zi   : \"+str(test_zi_prob_reg_mae))"
   ]
  },
  {
   "cell_type": "code",
   "execution_count": 10,
   "metadata": {},
   "outputs": [
    {
     "name": "stdout",
     "output_type": "stream",
     "text": [
      "rmse on train set for hdl : 0.551701774866\n",
      "mad on train set for hdl  : 0.0983582087754\n",
      "rmse on test set for hdl  : 0.64264011795\n",
      "mad on test set for hdl   : 0.101650462499\n",
      "\n",
      "positive rmse on train set for hdl : 2.2509158734\n",
      "positive mad on train set for hdl  : 1.40831434228\n",
      "positive rmse on test set for hdl  : 2.62474514499\n",
      "positive mad on test set for hdl   : 1.44257211501\n"
     ]
    }
   ],
   "source": [
    "train_hdl_prob_reg_rmse = rmse(train_hdl_reg,Ytrain)\n",
    "print(\"rmse on train set for hdl : \"+str(train_hdl_prob_reg_rmse))\n",
    "train_hdl_prob_reg_mae = mad(train_hdl_reg,Ytrain)\n",
    "print(\"mad on train set for hdl  : \"+str(train_hdl_prob_reg_mae))\n",
    "\n",
    "test_hdl_prob_reg_rmse = rmse(test_hdl_reg,Ytest)\n",
    "print(\"rmse on test set for hdl  : \"+str(test_hdl_prob_reg_rmse))\n",
    "test_hdl_prob_reg_mae = mad(test_hdl_reg,Ytest)\n",
    "print(\"mad on test set for hdl   : \"+str(test_hdl_prob_reg_mae))\n",
    "\n",
    "print(\"\")\n",
    "train_hdl_prob_reg_prmse = prmse(train_hdl_reg,Ytrain)\n",
    "print(\"positive rmse on train set for hdl : \"+str(train_hdl_prob_reg_prmse))\n",
    "train_hdl_prob_reg_mae = pmad(train_hdl_reg,Ytrain)\n",
    "print(\"positive mad on train set for hdl  : \"+str(train_hdl_prob_reg_mae))\n",
    "\n",
    "test_hdl_prob_reg_prmse = prmse(test_hdl_reg,Ytest)\n",
    "print(\"positive rmse on test set for hdl  : \"+str(test_hdl_prob_reg_prmse))\n",
    "test_hdl_prob_reg_mae = pmad(test_hdl_reg,Ytest)\n",
    "print(\"positive mad on test set for hdl   : \"+str(test_hdl_prob_reg_mae))"
   ]
  },
  {
   "cell_type": "code",
   "execution_count": 11,
   "metadata": {},
   "outputs": [
    {
     "name": "stdout",
     "output_type": "stream",
     "text": [
      "rmse on train set for svg : 0.542359460675\n",
      "mad on train set for svg  : 0.15141241909\n",
      "rmse on test set for svg  : 0.631376468695\n",
      "mad on test set for svg   : 0.152655270052\n",
      "\n",
      "positive rmse on train set for svg : 2.15341824714\n",
      "positive mad on train set for svg  : 1.25834069151\n",
      "positive rmse on test set for svg  : 2.52924367511\n",
      "positive mad on test set for svg   : 1.26718198988\n"
     ]
    }
   ],
   "source": [
    "train_svg_prob_reg_rmse = rmse(train_svg_reg,Ytrain)\n",
    "print(\"rmse on train set for svg : \"+str(train_svg_prob_reg_rmse))\n",
    "train_svg_prob_reg_mae = mad(train_svg_reg,Ytrain)\n",
    "print(\"mad on train set for svg  : \"+str(train_svg_prob_reg_mae))\n",
    "\n",
    "test_svg_prob_reg_rmse = rmse(test_svg_reg,Ytest)\n",
    "print(\"rmse on test set for svg  : \"+str(test_svg_prob_reg_rmse))\n",
    "test_svg_prob_reg_mae = mad(test_svg_reg,Ytest)\n",
    "print(\"mad on test set for svg   : \"+str(test_svg_prob_reg_mae))\n",
    "\n",
    "print(\"\")\n",
    "train_svg_prob_reg_prmse = prmse(train_svg_reg,Ytrain)\n",
    "print(\"positive rmse on train set for svg : \"+str(train_svg_prob_reg_prmse))\n",
    "train_svg_prob_reg_mae = pmad(train_svg_reg,Ytrain)\n",
    "print(\"positive mad on train set for svg  : \"+str(train_svg_prob_reg_mae))\n",
    "\n",
    "test_svg_prob_reg_prmse = prmse(test_svg_reg,Ytest)\n",
    "print(\"positive rmse on test set for svg  : \"+str(test_svg_prob_reg_prmse))\n",
    "test_svg_prob_reg_mae = pmad(test_svg_reg,Ytest)\n",
    "print(\"positive mad on test set for svg   : \"+str(test_svg_prob_reg_mae))"
   ]
  },
  {
   "cell_type": "code",
   "execution_count": 12,
   "metadata": {},
   "outputs": [
    {
     "name": "stdout",
     "output_type": "stream",
     "text": [
      "rmse on train set for oog : 0.540495110969\n",
      "mad on train set for oog  : 0.11327021324\n",
      "rmse on test set for oog  : 0.631419456565\n",
      "mad on test set for oog   : 0.114815335741\n",
      "\n",
      "positive rmse on train set for oog : 2.19205231437\n",
      "positive mad on train set for oog  : 1.3202616796\n",
      "positive rmse on test set for oog  : 2.56915124678\n",
      "positive mad on test set for oog   : 1.33450690313\n"
     ]
    }
   ],
   "source": [
    "train_oog_prob_reg_rmse = rmse(train_oog_reg,Ytrain)\n",
    "print(\"rmse on train set for oog : \"+str(train_oog_prob_reg_rmse))\n",
    "train_oog_prob_reg_mae = mad(train_oog_reg,Ytrain)\n",
    "print(\"mad on train set for oog  : \"+str(train_oog_prob_reg_mae))\n",
    "\n",
    "test_oog_prob_reg_rmse = rmse(test_oog_reg,Ytest)\n",
    "print(\"rmse on test set for oog  : \"+str(test_oog_prob_reg_rmse))\n",
    "test_oog_prob_reg_mae = mad(test_oog_reg,Ytest)\n",
    "print(\"mad on test set for oog   : \"+str(test_oog_prob_reg_mae))\n",
    "\n",
    "print(\"\")\n",
    "train_oog_prob_reg_prmse = prmse(train_oog_reg,Ytrain)\n",
    "print(\"positive rmse on train set for oog : \"+str(train_oog_prob_reg_prmse))\n",
    "train_oog_prob_reg_mae = pmad(train_oog_reg,Ytrain)\n",
    "print(\"positive mad on train set for oog  : \"+str(train_oog_prob_reg_mae))\n",
    "\n",
    "test_oog_prob_reg_prmse = prmse(test_oog_reg,Ytest)\n",
    "print(\"positive rmse on test set for oog  : \"+str(test_oog_prob_reg_prmse))\n",
    "test_oog_prob_reg_mae = pmad(test_oog_reg,Ytest)\n",
    "print(\"positive mad on test set for oog   : \"+str(test_oog_prob_reg_mae))"
   ]
  },
  {
   "cell_type": "markdown",
   "metadata": {},
   "source": [
    "** classification error summary**"
   ]
  },
  {
   "cell_type": "code",
   "execution_count": 13,
   "metadata": {},
   "outputs": [
    {
     "name": "stdout",
     "output_type": "stream",
     "text": [
      "clf train set:\n",
      "Predicted      0     1    All\n",
      "True                         \n",
      "0          80122  1114  81236\n",
      "1           6836  2340   9176\n",
      "All        86958  3454  90412\n",
      "\n",
      "             precision    recall  f1-score   support\n",
      "\n",
      "          0       0.92      0.99      0.95     81236\n",
      "          1       0.68      0.26      0.37      9176\n",
      "\n",
      "avg / total       0.90      0.91      0.89     90412\n",
      "\n",
      "\n",
      " ---- \n",
      "\n",
      "clf test set:\n",
      "Predicted      0    1    All\n",
      "True                        \n",
      "0          19944  295  20239\n",
      "1           1779  585   2364\n",
      "All        21723  880  22603\n",
      "\n",
      "             precision    recall  f1-score   support\n",
      "\n",
      "          0       0.92      0.99      0.95     20239\n",
      "          1       0.66      0.25      0.36      2364\n",
      "\n",
      "avg / total       0.89      0.91      0.89     22603\n",
      "\n"
     ]
    }
   ],
   "source": [
    "print(\"clf train set:\")\n",
    "print_cm(Ytrain_ind,train_clf_indc)\n",
    "print(\"\")\n",
    "print(classification_report(Ytrain_ind,train_clf_indc))\n",
    "\n",
    "print(\"\\n ---- \\n\")\n",
    "\n",
    "print(\"clf test set:\")\n",
    "print_cm(Ytest_ind,test_clf_indc)\n",
    "print(\"\")\n",
    "print(classification_report(Ytest_ind,test_clf_indc))\n"
   ]
  },
  {
   "cell_type": "code",
   "execution_count": 14,
   "metadata": {},
   "outputs": [
    {
     "name": "stdout",
     "output_type": "stream",
     "text": [
      "zi train set:\n",
      "Predicted      0     1    All\n",
      "True                         \n",
      "0          80137  1099  81236\n",
      "1           6846  2330   9176\n",
      "All        86983  3429  90412\n",
      "\n",
      "             precision    recall  f1-score   support\n",
      "\n",
      "          0       0.92      0.99      0.95     81236\n",
      "          1       0.68      0.25      0.37      9176\n",
      "\n",
      "avg / total       0.90      0.91      0.89     90412\n",
      "\n",
      "\n",
      " ---- \n",
      "\n",
      "zi test set:\n",
      "Predicted      0    1    All\n",
      "True                        \n",
      "0          19947  292  20239\n",
      "1           1781  583   2364\n",
      "All        21728  875  22603\n",
      "\n",
      "             precision    recall  f1-score   support\n",
      "\n",
      "          0       0.92      0.99      0.95     20239\n",
      "          1       0.67      0.25      0.36      2364\n",
      "\n",
      "avg / total       0.89      0.91      0.89     22603\n",
      "\n"
     ]
    }
   ],
   "source": [
    "print(\"zi train set:\")\n",
    "print_cm(Ytrain_ind,train_zi_indc)\n",
    "print(\"\")\n",
    "print(classification_report(Ytrain_ind,train_zi_indc))\n",
    "\n",
    "print(\"\\n ---- \\n\")\n",
    "\n",
    "print(\"zi test set:\")\n",
    "print_cm(Ytest_ind,test_zi_indc)\n",
    "print(\"\")\n",
    "print(classification_report(Ytest_ind,test_zi_indc))\n"
   ]
  },
  {
   "cell_type": "code",
   "execution_count": 15,
   "metadata": {},
   "outputs": [
    {
     "name": "stdout",
     "output_type": "stream",
     "text": [
      "hdl train set:\n",
      "Predicted      0     1    All\n",
      "True                         \n",
      "0          80359   877  81236\n",
      "1           6939  2237   9176\n",
      "All        87298  3114  90412\n",
      "\n",
      "             precision    recall  f1-score   support\n",
      "\n",
      "          0       0.92      0.99      0.95     81236\n",
      "          1       0.72      0.24      0.36      9176\n",
      "\n",
      "avg / total       0.90      0.91      0.89     90412\n",
      "\n",
      "\n",
      " ---- \n",
      "\n",
      "hdl test set:\n",
      "Predicted      0    1    All\n",
      "True                        \n",
      "0          20010  229  20239\n",
      "1           1811  553   2364\n",
      "All        21821  782  22603\n",
      "\n",
      "             precision    recall  f1-score   support\n",
      "\n",
      "          0       0.92      0.99      0.95     20239\n",
      "          1       0.71      0.23      0.35      2364\n",
      "\n",
      "avg / total       0.90      0.91      0.89     22603\n",
      "\n"
     ]
    }
   ],
   "source": [
    "print(\"hdl train set:\")\n",
    "print_cm(Ytrain_ind,train_hdl_indc)\n",
    "print(\"\")\n",
    "print(classification_report(Ytrain_ind,train_hdl_indc))\n",
    "\n",
    "print(\"\\n ---- \\n\")\n",
    "\n",
    "print(\"hdl test set:\")\n",
    "print_cm(Ytest_ind,test_hdl_indc)\n",
    "print(\"\")\n",
    "print(classification_report(Ytest_ind,test_hdl_indc))\n"
   ]
  },
  {
   "cell_type": "code",
   "execution_count": 16,
   "metadata": {},
   "outputs": [
    {
     "name": "stdout",
     "output_type": "stream",
     "text": [
      "svg train set:\n",
      "Predicted      0      1    All\n",
      "True                          \n",
      "0          61313  19923  81236\n",
      "1           1460   7716   9176\n",
      "All        62773  27639  90412\n",
      "\n",
      "             precision    recall  f1-score   support\n",
      "\n",
      "          0       0.98      0.75      0.85     81236\n",
      "          1       0.28      0.84      0.42      9176\n",
      "\n",
      "avg / total       0.91      0.76      0.81     90412\n",
      "\n",
      "\n",
      " ---- \n",
      "\n",
      "svg test set:\n",
      "Predicted      0     1    All\n",
      "True                         \n",
      "0          15295  4944  20239\n",
      "1            435  1929   2364\n",
      "All        15730  6873  22603\n",
      "\n",
      "             precision    recall  f1-score   support\n",
      "\n",
      "          0       0.97      0.76      0.85     20239\n",
      "          1       0.28      0.82      0.42      2364\n",
      "\n",
      "avg / total       0.90      0.76      0.81     22603\n",
      "\n"
     ]
    }
   ],
   "source": [
    "print(\"svg train set:\")\n",
    "print_cm(Ytrain_ind,train_svg_indc)\n",
    "print(\"\")\n",
    "print(classification_report(Ytrain_ind,train_svg_indc))\n",
    "\n",
    "print(\"\\n ---- \\n\")\n",
    "\n",
    "print(\"svg test set:\")\n",
    "print_cm(Ytest_ind,test_svg_indc)\n",
    "print(\"\")\n",
    "print(classification_report(Ytest_ind,test_svg_indc))\n"
   ]
  },
  {
   "cell_type": "code",
   "execution_count": 17,
   "metadata": {},
   "outputs": [
    {
     "name": "stdout",
     "output_type": "stream",
     "text": [
      "oog train set:\n",
      "Predicted      0      1    All\n",
      "True                          \n",
      "0          74897   6339  81236\n",
      "1           4492   4684   9176\n",
      "All        79389  11023  90412\n",
      "\n",
      "             precision    recall  f1-score   support\n",
      "\n",
      "          0       0.94      0.92      0.93     81236\n",
      "          1       0.42      0.51      0.46      9176\n",
      "\n",
      "avg / total       0.89      0.88      0.88     90412\n",
      "\n",
      "\n",
      " ---- \n",
      "\n",
      "oog test set:\n",
      "Predicted      0     1    All\n",
      "True                         \n",
      "0          18694  1545  20239\n",
      "1           1199  1165   2364\n",
      "All        19893  2710  22603\n",
      "\n",
      "             precision    recall  f1-score   support\n",
      "\n",
      "          0       0.94      0.92      0.93     20239\n",
      "          1       0.43      0.49      0.46      2364\n",
      "\n",
      "avg / total       0.89      0.88      0.88     22603\n",
      "\n"
     ]
    }
   ],
   "source": [
    "print(\"oog train set:\")\n",
    "print_cm(Ytrain_ind,train_oog_indc)\n",
    "print(\"\")\n",
    "print(classification_report(Ytrain_ind,train_oog_indc))\n",
    "\n",
    "print(\"\\n ---- \\n\")\n",
    "\n",
    "print(\"oog test set:\")\n",
    "print_cm(Ytest_ind,test_oog_indc)\n",
    "print(\"\")\n",
    "print(classification_report(Ytest_ind,test_oog_indc))\n"
   ]
  },
  {
   "cell_type": "markdown",
   "metadata": {},
   "source": [
    "** auc summary **"
   ]
  },
  {
   "cell_type": "code",
   "execution_count": 18,
   "metadata": {},
   "outputs": [
    {
     "name": "stderr",
     "output_type": "stream",
     "text": [
      "/u/52/hegdep1/unix/.conda/envs/tf13/lib/python3.6/site-packages/sklearn/metrics/classification.py:1135: UndefinedMetricWarning: Precision and F-score are ill-defined and being set to 0.0 in labels with no predicted samples.\n",
      "  'precision', 'predicted', average, warn_for)\n"
     ]
    }
   ],
   "source": [
    "from sklearn.metrics import precision_recall_fscore_support,confusion_matrix,roc_curve\n",
    "\n",
    "prc_00, rec_00,_,_ = precision_recall_fscore_support(Ytrain_ind,train_00_indc)\n",
    "prc_clf, rec_clf,_,_ = precision_recall_fscore_support(Ytrain_ind,train_clf_indc)\n",
    "prc_zi, rec_zi,_,_ = precision_recall_fscore_support(Ytrain_ind,train_zi_indc)\n",
    "prc_hdl, rec_hdl,_,_ = precision_recall_fscore_support(Ytrain_ind,train_hdl_indc)\n",
    "prc_svg, rec_svg,_,_ = precision_recall_fscore_support(Ytrain_ind,train_svg_indc)\n",
    "prc_oog, rec_oog,_,_ = precision_recall_fscore_support(Ytrain_ind,train_oog_indc)\n",
    "\n"
   ]
  },
  {
   "cell_type": "code",
   "execution_count": 19,
   "metadata": {},
   "outputs": [],
   "source": [
    "\n",
    "cm_00  = confusion_matrix(Ytrain_ind,train_00_indc)\n",
    "cm_clf = confusion_matrix(Ytrain_ind,train_clf_indc)\n",
    "cm_zi  = confusion_matrix(Ytrain_ind,train_zi_indc)\n",
    "cm_hdl = confusion_matrix(Ytrain_ind,train_hdl_indc)\n",
    "cm_svg = confusion_matrix(Ytrain_ind,train_svg_indc)\n",
    "cm_oog = confusion_matrix(Ytrain_ind,train_oog_indc)\n",
    "\n"
   ]
  },
  {
   "cell_type": "code",
   "execution_count": 20,
   "metadata": {},
   "outputs": [],
   "source": [
    "import itertools\n",
    "\n",
    "def plot_confusion_matrix(cm, classes,\n",
    "                          normalize=False,\n",
    "                          title='Confusion matrix',ax=None,\n",
    "                          cmap=plt.cm.Blues):\n",
    "    \"\"\"\n",
    "    This function prints and plots the confusion matrix.\n",
    "    Normalization can be applied by setting `normalize=True`.\n",
    "    \"\"\"\n",
    "    if ax is None:\n",
    "        ax = plt.gca()\n",
    "        \n",
    "    if normalize:\n",
    "        cm = cm.astype('float') / cm.sum(axis=1)[:, np.newaxis]\n",
    "    \n",
    "    pp = ax.imshow(cm, interpolation='nearest', cmap=cmap)\n",
    "    ax.set_title(title,fontsize=16)\n",
    "    tick_marks = np.arange(len(classes))\n",
    "    ax.set_xticks(tick_marks) #, rotation=45\n",
    "    ax.set_yticks(tick_marks)\n",
    "\n",
    "    fmt = '.2f' if normalize else 'd'\n",
    "    thresh = cm.max() / 2.\n",
    "    for i, j in itertools.product(range(cm.shape[0]), range(cm.shape[1])):\n",
    "        ax.text(j, i, format(cm[i, j], fmt),\n",
    "                 horizontalalignment=\"center\",fontsize=16,\n",
    "                 color=\"white\" if cm[i, j] > thresh else \"black\")\n",
    "    ax.set_ylabel('True label')\n",
    "    ax.set_xlabel('Predicted label')\n",
    "    return pp"
   ]
  },
  {
   "cell_type": "code",
   "execution_count": 21,
   "metadata": {},
   "outputs": [
    {
     "data": {
      "image/png": "[encoded data removed]",
      "text/plain": [
       "<matplotlib.figure.Figure at 0x7f11a3f16a20>"
      ]
     },
     "metadata": {},
     "output_type": "display_data"
    }
   ],
   "source": [
    "mpl.rcParams['figure.figsize'] = (20,4)\n",
    "fig, (ax1,ax2,ax3,ax4,ax5,ax6) = plt.subplots(1,6)\n",
    "\n",
    "plot_confusion_matrix(cm_00,classes=['0','1'],title='baseline',ax=ax1)\n",
    "plot_confusion_matrix(cm_clf,classes=['0','1'],title='clf',ax=ax2)\n",
    "plot_confusion_matrix(cm_zi,classes=['0','1'],title='zi',ax=ax3)\n",
    "plot_confusion_matrix(cm_hdl,classes=['0','1'],title='hdl',ax=ax4)\n",
    "plot_confusion_matrix(cm_svg,classes=['0','1'],title='svg',ax=ax5)\n",
    "plot_confusion_matrix(cm_oog,classes=['0','1'],title='oog',ax=ax6)\n",
    "plt.tight_layout()\n",
    "plt.savefig(\"confusion_matri_all.png\")\n",
    "plt.show()"
   ]
  },
  {
   "cell_type": "code",
   "execution_count": 22,
   "metadata": {},
   "outputs": [],
   "source": [
    "def Find_Optimal_Cutoff(target, predicted):\n",
    "    fpr, tpr, threshold = roc_curve(target, predicted)\n",
    "    i = np.arange(len(tpr)) \n",
    "    roc = pd.DataFrame({'tf' : pd.Series(tpr-(1-fpr), index=i), 'threshold' : pd.Series(threshold, index=i)})\n",
    "    roc_t = roc.ix[(roc.tf-0).abs().argsort()[:1]]\n",
    "    return list(roc_t['threshold'])"
   ]
  }
 ],
 "metadata": {
  "kernelspec": {
   "display_name": "Python [conda env:tf13]",
   "language": "python",
   "name": "conda-env-tf13-py"
  },
  "language_info": {
   "codemirror_mode": {
    "name": "ipython",
    "version": 3
   },
   "file_extension": ".py",
   "mimetype": "text/x-python",
   "name": "python",
   "nbconvert_exporter": "python",
   "pygments_lexer": "ipython3",
   "version": "3.6.3"
  }
 },
 "nbformat": 4,
 "nbformat_minor": 2
}
