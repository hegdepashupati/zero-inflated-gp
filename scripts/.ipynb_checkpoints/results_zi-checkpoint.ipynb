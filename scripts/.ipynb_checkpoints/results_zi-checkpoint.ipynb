{
 "cells": [
  {
   "cell_type": "code",
   "execution_count": 39,
   "metadata": {},
   "outputs": [],
   "source": [
    "import os\n",
    "import numpy as np\n",
    "import matplotlib.pyplot as plt\n",
    "import matplotlib as mpl\n",
    "import pickle\n",
    "import glob\n",
    "import pandas as pd"
   ]
  },
  {
   "cell_type": "code",
   "execution_count": 40,
   "metadata": {},
   "outputs": [],
   "source": [
    "rundir = \"../models/run01_hz/\""
   ]
  },
  {
   "cell_type": "code",
   "execution_count": 41,
   "metadata": {},
   "outputs": [],
   "source": [
    "zi_prob_train_mae = []\n",
    "zi_prob_test_mae = []\n",
    "zi_indc_train_mae = []\n",
    "zi_indc_test_mae = []\n",
    "\n",
    "zi_prob_train_rmse = []\n",
    "zi_prob_test_rmse = []\n",
    "zi_indc_train_rmse = []\n",
    "zi_indc_test_rmse = []"
   ]
  },
  {
   "cell_type": "code",
   "execution_count": 42,
   "metadata": {},
   "outputs": [],
   "source": [
    "nfolds = 5\n",
    "for fold in np.arange(1,nfolds+1):\n",
    "    zi_res = pickle.load(open(rundir+str(fold)+\"/results_zi.pickle\",\"rb\"))\n",
    "    \n",
    "    zi_prob_train_mae.append(zi_res['train_zi_prob_reg_mae'])\n",
    "    zi_prob_test_mae.append(zi_res['test_zi_prob_reg_mae'])\n",
    "    zi_indc_train_mae.append(zi_res['train_zi_indc_reg_mae'])\n",
    "    zi_indc_test_mae.append(zi_res['test_zi_indc_reg_mae'])\n",
    "\n",
    "    zi_prob_train_rmse.append(zi_res['train_zi_prob_reg_rmse'])\n",
    "    zi_prob_test_rmse.append(zi_res['test_zi_prob_reg_rmse'])\n",
    "    zi_indc_train_rmse.append(zi_res['train_zi_indc_reg_rmse'])\n",
    "    zi_indc_test_rmse.append(zi_res['test_zi_indc_reg_rmse'])\n",
    "\n",
    "zi_prob_train_mae = np.hstack(zi_prob_train_mae)\n",
    "zi_prob_test_mae = np.hstack(zi_prob_test_mae)\n",
    "zi_indc_train_mae = np.hstack(zi_indc_train_mae)\n",
    "zi_indc_test_mae = np.hstack(zi_indc_test_mae)\n",
    "\n",
    "zi_prob_train_rmse = np.hstack(zi_prob_train_rmse)\n",
    "zi_prob_test_rmse = np.hstack(zi_prob_test_rmse)\n",
    "zi_indc_train_rmse = np.hstack(zi_indc_train_rmse)\n",
    "zi_indc_test_rmse = np.hstack(zi_indc_test_rmse)"
   ]
  },
  {
   "cell_type": "code",
   "execution_count": 43,
   "metadata": {},
   "outputs": [
    {
     "name": "stdout",
     "output_type": "stream",
     "text": [
      "zi prob - mean train mae : 0.1086 (1sigma: 0.0004)\n",
      "zi prob - mean test  mae : 0.109 (1sigma: 0.0011)\n",
      "zi indc  - mean train mae : 0.1013 (1sigma: 0.0005)\n",
      "zi indc  - mean test  mae : 0.102 (1sigma: 0.0012)\n"
     ]
    }
   ],
   "source": [
    "print(\"zi prob - mean train mae : \"+str(np.round(zi_prob_train_mae.mean(),4))+\" (1sigma: \"+str(np.round(zi_prob_train_mae.std(),4))+\")\")\n",
    "print(\"zi prob - mean test  mae : \"+str(np.round(zi_prob_test_mae.mean(),4))+\" (1sigma: \"+str(np.round(zi_prob_test_mae.std(),4))+\")\")\n",
    "print(\"zi indc  - mean train mae : \"+str(np.round(zi_indc_train_mae.mean(),4))+\" (1sigma: \"+str(np.round(zi_indc_train_mae.std(),4))+\")\")\n",
    "print(\"zi indc  - mean test  mae : \"+str(np.round(zi_indc_test_mae.mean(),4))+\" (1sigma: \"+str(np.round(zi_indc_test_mae.std(),4))+\")\")"
   ]
  },
  {
   "cell_type": "code",
   "execution_count": null,
   "metadata": {
    "scrolled": false
   },
   "outputs": [
    {
     "name": "stdout",
     "output_type": "stream",
     "text": [
      "zi prob - mean train rmse : 0.5847 (1sigma: 0.0092)\n",
      "zi prob - mean test  rmse : 0.5851 (1sigma: 0.0352)\n",
      "zi indc  - mean train rmse : 0.5882 (1sigma: 0.0097)\n",
      "zi indc  - mean test  rmse : 0.5889 (1sigma: 0.0347)\n"
     ]
    }
   ],
   "source": [
    "print(\"zi prob - mean train rmse : \"+str(np.round(zi_prob_train_rmse.mean(),4))+\" (1sigma: \"+str(np.round(zi_prob_train_rmse.std(),4))+\")\")\n",
    "print(\"zi prob - mean test  rmse : \"+str(np.round(zi_prob_test_rmse.mean(),4))+\" (1sigma: \"+str(np.round(zi_prob_test_rmse.std(),4))+\")\")\n",
    "print(\"zi indc  - mean train rmse : \"+str(np.round(zi_indc_train_rmse.mean(),4))+\" (1sigma: \"+str(np.round(zi_indc_train_rmse.std(),4))+\")\")\n",
    "print(\"zi indc  - mean test  rmse : \"+str(np.round(zi_indc_test_rmse.mean(),4))+\" (1sigma: \"+str(np.round(zi_indc_test_rmse.std(),4))+\")\")"
   ]
  },
  {
   "cell_type": "markdown",
   "metadata": {},
   "source": [
    "** visualization **"
   ]
  },
  {
   "cell_type": "code",
   "execution_count": null,
   "metadata": {},
   "outputs": [],
   "source": [
    "rundir = \"../models/run01/1/\"\n",
    "data = pickle.load(open(rundir+\"data.pickle\",\"rb\"))\n",
    "zi_results = pickle.load(open(rundir+\"results_zi.pickle\",\"rb\"))\n",
    "\n",
    "Xtrain = data['Xtrain']\n",
    "Ytrain = data['Ytrain']\n",
    "Xtest = data['Xtest']\n",
    "Ytest = data['Ytest']\n",
    "\n",
    "traindf = pd.DataFrame({'ndatehour':Xtrain[:,2].flatten()*1000,'pptr':Ytrain.flatten(),'zi':zi_results['pred_train_zi_indc'].flatten()})\n",
    "mpl.rcParams['figure.figsize'] = (16,4)\n",
    "fig, ax = plt.subplots(1, 1, sharex=True)\n",
    "\n",
    "mean_pptr = traindf.groupby('ndatehour')['pptr'].mean()\n",
    "ax.bar(mean_pptr.index, mean_pptr.values, align='center')\n",
    "ax2 = ax.twinx()\n",
    "mean_zi = traindf.groupby('ndatehour')['zi'].mean()\n",
    "ax2.plot(mean_pptr.index, mean_zi.values,c=\"r\")\n",
    "plt.show()\n",
    "\n",
    "\n",
    "testdf = pd.DataFrame({'ndatehour':Xtest[:,2].flatten()*1000,'pptr':Ytest.flatten(),'zi':zi_results['pred_test_zi_indc'].flatten()})\n",
    "mpl.rcParams['figure.figsize'] = (16,4)\n",
    "fig, ax = plt.subplots(1, 1, sharex=True)\n",
    "\n",
    "mean_pptr = testdf.groupby('ndatehour')['pptr'].mean()\n",
    "ax.bar(mean_pptr.index, mean_pptr.values, align='center')\n",
    "ax2 = ax.twinx()\n",
    "mean_zi = testdf.groupby('ndatehour')['zi'].mean()\n",
    "ax2.plot(mean_pptr.index, mean_zi.values,c=\"r\")\n",
    "plt.show()\n",
    "\n",
    "\n"
   ]
  }
 ],
 "metadata": {
  "kernelspec": {
   "display_name": "Python [conda env:tf13]",
   "language": "python",
   "name": "conda-env-tf13-py"
  },
  "language_info": {
   "codemirror_mode": {
    "name": "ipython",
    "version": 3
   },
   "file_extension": ".py",
   "mimetype": "text/x-python",
   "name": "python",
   "nbconvert_exporter": "python",
   "pygments_lexer": "ipython3",
   "version": "3.6.3"
  }
 },
 "nbformat": 4,
 "nbformat_minor": 2
}
