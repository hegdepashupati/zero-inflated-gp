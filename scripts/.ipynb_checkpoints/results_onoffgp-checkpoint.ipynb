{
 "cells": [
  {
   "cell_type": "code",
   "execution_count": 1,
   "metadata": {
    "collapsed": true
   },
   "outputs": [],
   "source": [
    "import os\n",
    "import numpy as np\n",
    "import matplotlib.pyplot as plt\n",
    "import matplotlib as mpl\n",
    "import pickle\n",
    "import glob"
   ]
  },
  {
   "cell_type": "code",
   "execution_count": 2,
   "metadata": {
    "collapsed": true
   },
   "outputs": [],
   "source": [
    "rundir = \"../models/run01/\""
   ]
  },
  {
   "cell_type": "code",
   "execution_count": 3,
   "metadata": {
    "collapsed": true
   },
   "outputs": [],
   "source": [
    "onoff_train_mae = []\n",
    "onoff_test_mae = []\n",
    "svgp_train_mae = []\n",
    "svgp_test_mae = []\n",
    "\n",
    "onoff_train_rmse = []\n",
    "onoff_test_rmse = []\n",
    "svgp_train_rmse = []\n",
    "svgp_test_rmse = []"
   ]
  },
  {
   "cell_type": "code",
   "execution_count": 4,
   "metadata": {
    "collapsed": true
   },
   "outputs": [],
   "source": [
    "nfolds = 5\n",
    "for fold in np.arange(1,nfolds+1):\n",
    "    onoff_res = pickle.load(open(rundir+str(fold)+\"/results_onoff.pickle\",\"rb\"))\n",
    "    svgp_res = pickle.load(open(rundir+str(fold)+\"/results_svgp.pickle\",\"rb\"))\n",
    "    \n",
    "    onoff_train_mae.append(onoff_res['train_mae'])\n",
    "    onoff_test_mae.append(onoff_res['test_mae'])\n",
    "    svgp_train_mae.append(svgp_res['train_mae'])\n",
    "    svgp_test_mae.append(svgp_res['test_mae'])\n",
    "\n",
    "    onoff_train_rmse.append(onoff_res['train_rmse'])\n",
    "    onoff_test_rmse.append(onoff_res['test_rmse'])\n",
    "    svgp_train_rmse.append(svgp_res['train_rmse'])\n",
    "    svgp_test_rmse.append(svgp_res['test_rmse'])\n",
    "\n",
    "onoff_train_mae = np.hstack(onoff_train_mae)\n",
    "onoff_test_mae = np.hstack(onoff_test_mae)\n",
    "svgp_train_mae = np.hstack(svgp_train_mae)\n",
    "svgp_test_mae = np.hstack(svgp_test_mae)\n",
    "\n",
    "onoff_train_rmse = np.hstack(onoff_train_rmse)\n",
    "onoff_test_rmse = np.hstack(onoff_test_rmse)\n",
    "svgp_train_rmse = np.hstack(svgp_train_rmse)\n",
    "svgp_test_rmse = np.hstack(svgp_test_rmse)"
   ]
  },
  {
   "cell_type": "code",
   "execution_count": 5,
   "metadata": {},
   "outputs": [
    {
     "name": "stdout",
     "output_type": "stream",
     "text": [
      "onoff - mean train mae : 0.1267 (1sigma: 0.002)\n",
      "onoff - mean test  mae : 0.1279 (1sigma: 0.0015)\n",
      "svgp  - mean train mae : 0.1579 (1sigma: 0.0089)\n",
      "svgp  - mean test  mae : 0.1585 (1sigma: 0.009)\n"
     ]
    }
   ],
   "source": [
    "print(\"onoff - mean train mae : \"+str(np.round(onoff_train_mae.mean(),4))+\" (1sigma: \"+str(np.round(onoff_train_mae.std(),4))+\")\")\n",
    "print(\"onoff - mean test  mae : \"+str(np.round(onoff_test_mae.mean(),4))+\" (1sigma: \"+str(np.round(onoff_test_mae.std(),4))+\")\")\n",
    "print(\"svgp  - mean train mae : \"+str(np.round(svgp_train_mae.mean(),4))+\" (1sigma: \"+str(np.round(svgp_train_mae.std(),4))+\")\")\n",
    "print(\"svgp  - mean test  mae : \"+str(np.round(svgp_test_mae.mean(),4))+\" (1sigma: \"+str(np.round(svgp_test_mae.std(),4))+\")\")"
   ]
  },
  {
   "cell_type": "code",
   "execution_count": 42,
   "metadata": {
    "scrolled": true
   },
   "outputs": [
    {
     "name": "stdout",
     "output_type": "stream",
     "text": [
      "onoff - mean train rmse : 0.5561 (1sigma: 0.0079)\n",
      "onoff - mean test  rmse : 0.5607 (1sigma: 0.0363)\n",
      "svgp  - mean train rmse : 0.5659 (1sigma: 0.0156)\n",
      "svgp  - mean test  rmse : 0.5686 (1sigma: 0.0343)\n"
     ]
    }
   ],
   "source": [
    "print(\"onoff - mean train rmse : \"+str(np.round(onoff_train_rmse.mean(),4))+\" (1sigma: \"+str(np.round(onoff_train_rmse.std(),4))+\")\")\n",
    "print(\"onoff - mean test  rmse : \"+str(np.round(onoff_test_rmse.mean(),4))+\" (1sigma: \"+str(np.round(onoff_test_rmse.std(),4))+\")\")\n",
    "print(\"svgp  - mean train rmse : \"+str(np.round(svgp_train_rmse.mean(),4))+\" (1sigma: \"+str(np.round(svgp_train_rmse.std(),4))+\")\")\n",
    "print(\"svgp  - mean test  rmse : \"+str(np.round(svgp_test_rmse.mean(),4))+\" (1sigma: \"+str(np.round(svgp_test_rmse.std(),4))+\")\")"
   ]
  }
 ],
 "metadata": {
  "kernelspec": {
   "display_name": "Python [conda env:tf13]",
   "language": "python",
   "name": "conda-env-tf13-py"
  },
  "language_info": {
   "codemirror_mode": {
    "name": "ipython",
    "version": 3
   },
   "file_extension": ".py",
   "mimetype": "text/x-python",
   "name": "python",
   "nbconvert_exporter": "python",
   "pygments_lexer": "ipython3",
   "version": "3.5.4"
  }
 },
 "nbformat": 4,
 "nbformat_minor": 2
}
