{
 "cells": [
  {
   "cell_type": "code",
   "execution_count": 1,
   "metadata": {},
   "outputs": [],
   "source": [
    "import os\n",
    "import numpy as np\n",
    "import matplotlib.pyplot as plt\n",
    "import matplotlib as mpl\n",
    "import pickle\n",
    "import glob\n",
    "import pandas as pd\n",
    "from sklearn.metrics import classification_report, confusion_matrix\n",
    "from sklearn.metrics import precision_recall_curve\n",
    "import matplotlib.pyplot as plt\n",
    "from sklearn.metrics import average_precision_score"
   ]
  },
  {
   "cell_type": "code",
   "execution_count": 2,
   "metadata": {},
   "outputs": [],
   "source": [
    "def print_cm(actual, pred):\n",
    "    print(pd.crosstab(pd.Series(actual.astype('int').flatten()), pd.Series(pred.astype('int').flatten()), rownames=['True'], colnames=['Predicted'], margins=True))"
   ]
  },
  {
   "cell_type": "code",
   "execution_count": 3,
   "metadata": {},
   "outputs": [],
   "source": [
    "hrundir = \"../models/run01_hz/5/\"\n",
    "orundir = \"../models/run01/5/\""
   ]
  },
  {
   "cell_type": "code",
   "execution_count": 4,
   "metadata": {},
   "outputs": [],
   "source": [
    "data = pickle.load(open(hrundir+\"data.pickle\",\"rb\"))\n",
    "Xtrain = data['Xtrain']\n",
    "Ytrain = data['Ytrain']\n",
    "Xtest = data['Xtest']\n",
    "Ytest = data['Ytest']\n",
    "\n",
    "Ytrain_ind = (Ytrain > 0) * 1\n",
    "Ytest_ind = (Ytest > 0) * 1"
   ]
  },
  {
   "cell_type": "code",
   "execution_count": 5,
   "metadata": {},
   "outputs": [],
   "source": [
    "clf_results = pickle.load(open(hrundir+\"results_scgp.pickle\",\"rb\"))\n",
    "zi_results  = pickle.load(open(hrundir+\"results_zi.pickle\",\"rb\"))\n",
    "hdl_results = pickle.load(open(hrundir+\"results_hurdle.pickle\",\"rb\"))\n",
    "svg_results = pickle.load(open(orundir+\"results_svgp.pickle\",\"rb\"))\n",
    "oog_results = pickle.load(open(orundir+\"results_onoff.pickle\",\"rb\"))"
   ]
  },
  {
   "cell_type": "code",
   "execution_count": 6,
   "metadata": {},
   "outputs": [],
   "source": [
    "train_clf_prob = clf_results['pred_train']['pfmean']\n",
    "test_clf_prob  = clf_results['pred_test']['pfmean']\n",
    "train_clf_indc = (train_clf_prob > 0.5) * 1.0\n",
    "test_clf_indc  = (test_clf_prob > 0.5) * 1.0\n",
    "\n",
    "train_zi_indc = (zi_results['pred_train_zi_indc'] > 1e-1) * 1\n",
    "test_zi_indc  = (zi_results['pred_test_zi_indc'] > 1e-1) * 1\n",
    "train_zi_reg = zi_results['pred_train_zi_prob']\n",
    "test_zi_reg  = zi_results['pred_test_zi_prob']\n",
    "\n",
    "train_00_indc = train_zi_reg*0.\n",
    "test_00_indc  = test_zi_reg*0.\n",
    "train_00_reg = train_zi_reg*0.\n",
    "test_00_reg  = test_zi_reg*0.\n",
    "\n",
    "\n",
    "train_hdl_indc  = (hdl_results['train_pred_hurdle_comb'] > 1e-1) * 1\n",
    "test_hdl_indc  = (hdl_results['test_pred_hurdle_comb'] > 1e-1) * 1\n",
    "train_hdl_reg  = hdl_results['train_pred_hurdle_comb']\n",
    "test_hdl_reg  = hdl_results['test_pred_hurdle_comb']\n",
    "\n",
    "train_svg_indc = (svg_results['pred_train']['fmean'] > 1e-1) * 1.0\n",
    "test_svg_indc  = (svg_results['pred_test']['fmean'] > 1e-1) * 1.0\n",
    "train_svg_reg = svg_results['pred_train']['fmean']\n",
    "test_svg_reg  = svg_results['pred_test']['fmean']\n",
    "\n",
    "train_oog_indc = (oog_results['pred_train']['gfmean'] > 1e-1) * 1.0\n",
    "test_oog_indc  = (oog_results['pred_test']['gfmean'] > 1e-1) * 1.0\n",
    "train_oog_reg = oog_results['pred_train']['gfmean']\n",
    "test_oog_reg  = oog_results['pred_test']['gfmean']"
   ]
  },
  {
   "cell_type": "code",
   "execution_count": 7,
   "metadata": {},
   "outputs": [],
   "source": [
    "def rmse(predict,actual):\n",
    "    predict = np.maximum(predict,0)\n",
    "    return np.sqrt(np.mean((actual-predict)**2))\n",
    "\n",
    "def mad(predict,actual):\n",
    "    predict = np.maximum(predict,0)\n",
    "    return np.mean(np.abs(actual-predict))\n",
    "\n",
    "def prmse(predict,actual):\n",
    "    idx = np.where(actual > 0.3)\n",
    "    predict = np.maximum(predict,0)\n",
    "    return np.sqrt(np.mean((actual[idx]-predict[idx])**2))\n",
    "\n",
    "def pmad(predict,actual):\n",
    "    idx = np.where(actual > 0.3)\n",
    "    predict = np.maximum(predict,0)\n",
    "    return np.mean(np.abs(actual[idx]-predict[idx]))"
   ]
  },
  {
   "cell_type": "markdown",
   "metadata": {},
   "source": [
    "** regression error summary**"
   ]
  },
  {
   "cell_type": "code",
   "execution_count": 8,
   "metadata": {},
   "outputs": [
    {
     "name": "stdout",
     "output_type": "stream",
     "text": [
      "rmse on train set for 00 : 0.619787648826\n",
      "mad on train set for 00  : 0.104131088794\n",
      "rmse on test set for 00  : 0.598636537197\n",
      "mad on test set for 00   : 0.103933106225\n",
      "\n",
      "positive rmse on train set for 00 : 2.57658365727\n",
      "positive mad on train set for 00  : 1.67852619459\n",
      "positive rmse on test set for 00  : 2.48623027819\n",
      "positive mad on test set for 00   : 1.67348659004\n"
     ]
    }
   ],
   "source": [
    "train_00_prob_reg_rmse = rmse(train_00_reg,Ytrain)\n",
    "print(\"rmse on train set for 00 : \"+str(train_00_prob_reg_rmse))\n",
    "train_00_prob_reg_mae = mad(train_00_reg,Ytrain)\n",
    "print(\"mad on train set for 00  : \"+str(train_00_prob_reg_mae))\n",
    "\n",
    "test_00_prob_reg_rmse = rmse(test_00_reg,Ytest)\n",
    "print(\"rmse on test set for 00  : \"+str(test_00_prob_reg_rmse))\n",
    "test_00_prob_reg_mae = mad(test_00_reg,Ytest)\n",
    "print(\"mad on test set for 00   : \"+str(test_00_prob_reg_mae))\n",
    "\n",
    "print(\"\")\n",
    "train_00_prob_reg_prmse = prmse(train_00_reg,Ytrain)\n",
    "print(\"positive rmse on train set for 00 : \"+str(train_00_prob_reg_prmse))\n",
    "train_00_prob_reg_mae = pmad(train_00_reg,Ytrain)\n",
    "print(\"positive mad on train set for 00  : \"+str(train_00_prob_reg_mae))\n",
    "\n",
    "test_00_prob_reg_prmse = prmse(test_00_reg,Ytest)\n",
    "print(\"positive rmse on test set for 00  : \"+str(test_00_prob_reg_prmse))\n",
    "test_00_prob_reg_mae = pmad(test_00_reg,Ytest)\n",
    "print(\"positive mad on test set for 00   : \"+str(test_00_prob_reg_mae))"
   ]
  },
  {
   "cell_type": "code",
   "execution_count": 9,
   "metadata": {},
   "outputs": [
    {
     "name": "stdout",
     "output_type": "stream",
     "text": [
      "rmse on train set for zi : 0.587682668408\n",
      "mad on train set for zi  : 0.107977961869\n",
      "rmse on test set for zi  : 0.570618995342\n",
      "mad on test set for zi   : 0.109274443859\n",
      "\n",
      "positive rmse on train set for zi : 2.4320873176\n",
      "positive mad on train set for zi  : 1.47951344796\n",
      "positive rmse on test set for zi  : 2.35810940924\n",
      "positive mad on test set for zi   : 1.4941428819\n"
     ]
    }
   ],
   "source": [
    "train_zi_prob_reg_rmse = rmse(train_zi_reg,Ytrain)\n",
    "print(\"rmse on train set for zi : \"+str(train_zi_prob_reg_rmse))\n",
    "train_zi_prob_reg_mae = mad(train_zi_reg,Ytrain)\n",
    "print(\"mad on train set for zi  : \"+str(train_zi_prob_reg_mae))\n",
    "\n",
    "test_zi_prob_reg_rmse = rmse(test_zi_reg,Ytest)\n",
    "print(\"rmse on test set for zi  : \"+str(test_zi_prob_reg_rmse))\n",
    "test_zi_prob_reg_mae = mad(test_zi_reg,Ytest)\n",
    "print(\"mad on test set for zi   : \"+str(test_zi_prob_reg_mae))\n",
    "\n",
    "print(\"\")\n",
    "train_zi_prob_reg_prmse = prmse(train_zi_reg,Ytrain)\n",
    "print(\"positive rmse on train set for zi : \"+str(train_zi_prob_reg_prmse))\n",
    "train_zi_prob_reg_mae = pmad(train_zi_reg,Ytrain)\n",
    "print(\"positive mad on train set for zi  : \"+str(train_zi_prob_reg_mae))\n",
    "\n",
    "test_zi_prob_reg_prmse = prmse(test_zi_reg,Ytest)\n",
    "print(\"positive rmse on test set for zi  : \"+str(test_zi_prob_reg_prmse))\n",
    "test_zi_prob_reg_mae = pmad(test_zi_reg,Ytest)\n",
    "print(\"positive mad on test set for zi   : \"+str(test_zi_prob_reg_mae))"
   ]
  },
  {
   "cell_type": "code",
   "execution_count": 10,
   "metadata": {},
   "outputs": [
    {
     "name": "stdout",
     "output_type": "stream",
     "text": [
      "rmse on train set for hdl : 0.569821342641\n",
      "mad on train set for hdl  : 0.0971805938888\n",
      "rmse on test set for hdl  : 0.560205889704\n",
      "mad on test set for hdl   : 0.101308472264\n",
      "\n",
      "positive rmse on train set for hdl : 2.32666487305\n",
      "positive mad on train set for hdl  : 1.39364772671\n",
      "positive rmse on test set for hdl  : 2.27069195573\n",
      "positive mad on test set for hdl   : 1.43468112323\n"
     ]
    }
   ],
   "source": [
    "train_hdl_prob_reg_rmse = rmse(train_hdl_reg,Ytrain)\n",
    "print(\"rmse on train set for hdl : \"+str(train_hdl_prob_reg_rmse))\n",
    "train_hdl_prob_reg_mae = mad(train_hdl_reg,Ytrain)\n",
    "print(\"mad on train set for hdl  : \"+str(train_hdl_prob_reg_mae))\n",
    "\n",
    "test_hdl_prob_reg_rmse = rmse(test_hdl_reg,Ytest)\n",
    "print(\"rmse on test set for hdl  : \"+str(test_hdl_prob_reg_rmse))\n",
    "test_hdl_prob_reg_mae = mad(test_hdl_reg,Ytest)\n",
    "print(\"mad on test set for hdl   : \"+str(test_hdl_prob_reg_mae))\n",
    "\n",
    "print(\"\")\n",
    "train_hdl_prob_reg_prmse = prmse(train_hdl_reg,Ytrain)\n",
    "print(\"positive rmse on train set for hdl : \"+str(train_hdl_prob_reg_prmse))\n",
    "train_hdl_prob_reg_mae = pmad(train_hdl_reg,Ytrain)\n",
    "print(\"positive mad on train set for hdl  : \"+str(train_hdl_prob_reg_mae))\n",
    "\n",
    "test_hdl_prob_reg_prmse = prmse(test_hdl_reg,Ytest)\n",
    "print(\"positive rmse on test set for hdl  : \"+str(test_hdl_prob_reg_prmse))\n",
    "test_hdl_prob_reg_mae = pmad(test_hdl_reg,Ytest)\n",
    "print(\"positive mad on test set for hdl   : \"+str(test_hdl_prob_reg_mae))"
   ]
  },
  {
   "cell_type": "code",
   "execution_count": 11,
   "metadata": {},
   "outputs": [
    {
     "name": "stdout",
     "output_type": "stream",
     "text": [
      "rmse on train set for svg : 0.589446507866\n",
      "mad on train set for svg  : 0.174390941032\n",
      "rmse on test set for svg  : 0.572788266819\n",
      "mad on test set for svg   : 0.175726021304\n",
      "\n",
      "positive rmse on train set for svg : 2.32215217993\n",
      "positive mad on train set for svg  : 1.33048833799\n",
      "positive rmse on test set for svg  : 2.24762214212\n",
      "positive mad on test set for svg   : 1.34960224609\n"
     ]
    }
   ],
   "source": [
    "train_svg_prob_reg_rmse = rmse(train_svg_reg,Ytrain)\n",
    "print(\"rmse on train set for svg : \"+str(train_svg_prob_reg_rmse))\n",
    "train_svg_prob_reg_mae = mad(train_svg_reg,Ytrain)\n",
    "print(\"mad on train set for svg  : \"+str(train_svg_prob_reg_mae))\n",
    "\n",
    "test_svg_prob_reg_rmse = rmse(test_svg_reg,Ytest)\n",
    "print(\"rmse on test set for svg  : \"+str(test_svg_prob_reg_rmse))\n",
    "test_svg_prob_reg_mae = mad(test_svg_reg,Ytest)\n",
    "print(\"mad on test set for svg   : \"+str(test_svg_prob_reg_mae))\n",
    "\n",
    "print(\"\")\n",
    "train_svg_prob_reg_prmse = prmse(train_svg_reg,Ytrain)\n",
    "print(\"positive rmse on train set for svg : \"+str(train_svg_prob_reg_prmse))\n",
    "train_svg_prob_reg_mae = pmad(train_svg_reg,Ytrain)\n",
    "print(\"positive mad on train set for svg  : \"+str(train_svg_prob_reg_mae))\n",
    "\n",
    "test_svg_prob_reg_prmse = prmse(test_svg_reg,Ytest)\n",
    "print(\"positive rmse on test set for svg  : \"+str(test_svg_prob_reg_prmse))\n",
    "test_svg_prob_reg_mae = pmad(test_svg_reg,Ytest)\n",
    "print(\"positive mad on test set for svg   : \"+str(test_svg_prob_reg_mae))"
   ]
  },
  {
   "cell_type": "code",
   "execution_count": 12,
   "metadata": {},
   "outputs": [
    {
     "name": "stdout",
     "output_type": "stream",
     "text": [
      "rmse on train set for oog : 0.558287394374\n",
      "mad on train set for oog  : 0.124571166217\n",
      "rmse on test set for oog  : 0.546889144378\n",
      "mad on test set for oog   : 0.127662007095\n",
      "\n",
      "positive rmse on train set for oog : 2.25740225111\n",
      "positive mad on train set for oog  : 1.29155099771\n",
      "positive rmse on test set for oog  : 2.20216158082\n",
      "positive mad on test set for oog   : 1.32431826053\n"
     ]
    }
   ],
   "source": [
    "train_oog_prob_reg_rmse = rmse(train_oog_reg,Ytrain)\n",
    "print(\"rmse on train set for oog : \"+str(train_oog_prob_reg_rmse))\n",
    "train_oog_prob_reg_mae = mad(train_oog_reg,Ytrain)\n",
    "print(\"mad on train set for oog  : \"+str(train_oog_prob_reg_mae))\n",
    "\n",
    "test_oog_prob_reg_rmse = rmse(test_oog_reg,Ytest)\n",
    "print(\"rmse on test set for oog  : \"+str(test_oog_prob_reg_rmse))\n",
    "test_oog_prob_reg_mae = mad(test_oog_reg,Ytest)\n",
    "print(\"mad on test set for oog   : \"+str(test_oog_prob_reg_mae))\n",
    "\n",
    "print(\"\")\n",
    "train_oog_prob_reg_prmse = prmse(train_oog_reg,Ytrain)\n",
    "print(\"positive rmse on train set for oog : \"+str(train_oog_prob_reg_prmse))\n",
    "train_oog_prob_reg_mae = pmad(train_oog_reg,Ytrain)\n",
    "print(\"positive mad on train set for oog  : \"+str(train_oog_prob_reg_mae))\n",
    "\n",
    "test_oog_prob_reg_prmse = prmse(test_oog_reg,Ytest)\n",
    "print(\"positive rmse on test set for oog  : \"+str(test_oog_prob_reg_prmse))\n",
    "test_oog_prob_reg_mae = pmad(test_oog_reg,Ytest)\n",
    "print(\"positive mad on test set for oog   : \"+str(test_oog_prob_reg_mae))"
   ]
  },
  {
   "cell_type": "markdown",
   "metadata": {},
   "source": [
    "** classification error summary**"
   ]
  },
  {
   "cell_type": "code",
   "execution_count": 13,
   "metadata": {},
   "outputs": [
    {
     "name": "stdout",
     "output_type": "stream",
     "text": [
      "clf train set:\n",
      "Predicted      0     1    All\n",
      "True                         \n",
      "0          80145  1032  81177\n",
      "1           6809  2426   9235\n",
      "All        86954  3458  90412\n",
      "\n",
      "             precision    recall  f1-score   support\n",
      "\n",
      "          0       0.92      0.99      0.95     81177\n",
      "          1       0.70      0.26      0.38      9235\n",
      "\n",
      "avg / total       0.90      0.91      0.90     90412\n",
      "\n",
      "\n",
      " ---- \n",
      "\n",
      "clf test set:\n",
      "Predicted      0    1    All\n",
      "True                        \n",
      "0          20024  274  20298\n",
      "1           1734  571   2305\n",
      "All        21758  845  22603\n",
      "\n",
      "             precision    recall  f1-score   support\n",
      "\n",
      "          0       0.92      0.99      0.95     20298\n",
      "          1       0.68      0.25      0.36      2305\n",
      "\n",
      "avg / total       0.90      0.91      0.89     22603\n",
      "\n"
     ]
    }
   ],
   "source": [
    "print(\"clf train set:\")\n",
    "print_cm(Ytrain_ind,train_clf_indc)\n",
    "print(\"\")\n",
    "print(classification_report(Ytrain_ind,train_clf_indc))\n",
    "\n",
    "print(\"\\n ---- \\n\")\n",
    "\n",
    "print(\"clf test set:\")\n",
    "print_cm(Ytest_ind,test_clf_indc)\n",
    "print(\"\")\n",
    "print(classification_report(Ytest_ind,test_clf_indc))\n"
   ]
  },
  {
   "cell_type": "code",
   "execution_count": 14,
   "metadata": {},
   "outputs": [
    {
     "name": "stdout",
     "output_type": "stream",
     "text": [
      "zi train set:\n",
      "Predicted      0     1    All\n",
      "True                         \n",
      "0          80179   998  81177\n",
      "1           6819  2416   9235\n",
      "All        86998  3414  90412\n",
      "\n",
      "             precision    recall  f1-score   support\n",
      "\n",
      "          0       0.92      0.99      0.95     81177\n",
      "          1       0.71      0.26      0.38      9235\n",
      "\n",
      "avg / total       0.90      0.91      0.90     90412\n",
      "\n",
      "\n",
      " ---- \n",
      "\n",
      "zi test set:\n",
      "Predicted      0    1    All\n",
      "True                        \n",
      "0          20031  267  20298\n",
      "1           1734  571   2305\n",
      "All        21765  838  22603\n",
      "\n",
      "             precision    recall  f1-score   support\n",
      "\n",
      "          0       0.92      0.99      0.95     20298\n",
      "          1       0.68      0.25      0.36      2305\n",
      "\n",
      "avg / total       0.90      0.91      0.89     22603\n",
      "\n"
     ]
    }
   ],
   "source": [
    "print(\"zi train set:\")\n",
    "print_cm(Ytrain_ind,train_zi_indc)\n",
    "print(\"\")\n",
    "print(classification_report(Ytrain_ind,train_zi_indc))\n",
    "\n",
    "print(\"\\n ---- \\n\")\n",
    "\n",
    "print(\"zi test set:\")\n",
    "print_cm(Ytest_ind,test_zi_indc)\n",
    "print(\"\")\n",
    "print(classification_report(Ytest_ind,test_zi_indc))\n"
   ]
  },
  {
   "cell_type": "code",
   "execution_count": 15,
   "metadata": {},
   "outputs": [
    {
     "name": "stdout",
     "output_type": "stream",
     "text": [
      "hdl train set:\n",
      "Predicted      0     1    All\n",
      "True                         \n",
      "0          80401   776  81177\n",
      "1           6925  2310   9235\n",
      "All        87326  3086  90412\n",
      "\n",
      "             precision    recall  f1-score   support\n",
      "\n",
      "          0       0.92      0.99      0.95     81177\n",
      "          1       0.75      0.25      0.37      9235\n",
      "\n",
      "avg / total       0.90      0.91      0.90     90412\n",
      "\n",
      "\n",
      " ---- \n",
      "\n",
      "hdl test set:\n",
      "Predicted      0    1    All\n",
      "True                        \n",
      "0          20086  212  20298\n",
      "1           1767  538   2305\n",
      "All        21853  750  22603\n",
      "\n",
      "             precision    recall  f1-score   support\n",
      "\n",
      "          0       0.92      0.99      0.95     20298\n",
      "          1       0.72      0.23      0.35      2305\n",
      "\n",
      "avg / total       0.90      0.91      0.89     22603\n",
      "\n"
     ]
    }
   ],
   "source": [
    "print(\"hdl train set:\")\n",
    "print_cm(Ytrain_ind,train_hdl_indc)\n",
    "print(\"\")\n",
    "print(classification_report(Ytrain_ind,train_hdl_indc))\n",
    "\n",
    "print(\"\\n ---- \\n\")\n",
    "\n",
    "print(\"hdl test set:\")\n",
    "print_cm(Ytest_ind,test_hdl_indc)\n",
    "print(\"\")\n",
    "print(classification_report(Ytest_ind,test_hdl_indc))\n"
   ]
  },
  {
   "cell_type": "code",
   "execution_count": 16,
   "metadata": {},
   "outputs": [
    {
     "name": "stdout",
     "output_type": "stream",
     "text": [
      "svg train set:\n",
      "Predicted      0      1    All\n",
      "True                          \n",
      "0          56485  24692  81177\n",
      "1           1931   7304   9235\n",
      "All        58416  31996  90412\n",
      "\n",
      "             precision    recall  f1-score   support\n",
      "\n",
      "          0       0.97      0.70      0.81     81177\n",
      "          1       0.23      0.79      0.35      9235\n",
      "\n",
      "avg / total       0.89      0.71      0.76     90412\n",
      "\n",
      "\n",
      " ---- \n",
      "\n",
      "svg test set:\n",
      "Predicted      0     1    All\n",
      "True                         \n",
      "0          14135  6163  20298\n",
      "1            465  1840   2305\n",
      "All        14600  8003  22603\n",
      "\n",
      "             precision    recall  f1-score   support\n",
      "\n",
      "          0       0.97      0.70      0.81     20298\n",
      "          1       0.23      0.80      0.36      2305\n",
      "\n",
      "avg / total       0.89      0.71      0.76     22603\n",
      "\n"
     ]
    }
   ],
   "source": [
    "print(\"svg train set:\")\n",
    "print_cm(Ytrain_ind,train_svg_indc)\n",
    "print(\"\")\n",
    "print(classification_report(Ytrain_ind,train_svg_indc))\n",
    "\n",
    "print(\"\\n ---- \\n\")\n",
    "\n",
    "print(\"svg test set:\")\n",
    "print_cm(Ytest_ind,test_svg_indc)\n",
    "print(\"\")\n",
    "print(classification_report(Ytest_ind,test_svg_indc))\n"
   ]
  },
  {
   "cell_type": "code",
   "execution_count": 17,
   "metadata": {},
   "outputs": [
    {
     "name": "stdout",
     "output_type": "stream",
     "text": [
      "oog train set:\n",
      "Predicted      0      1    All\n",
      "True                          \n",
      "0          70015  11162  81177\n",
      "1           3178   6057   9235\n",
      "All        73193  17219  90412\n",
      "\n",
      "             precision    recall  f1-score   support\n",
      "\n",
      "          0       0.96      0.86      0.91     81177\n",
      "          1       0.35      0.66      0.46      9235\n",
      "\n",
      "avg / total       0.89      0.84      0.86     90412\n",
      "\n",
      "\n",
      " ---- \n",
      "\n",
      "oog test set:\n",
      "Predicted      0     1    All\n",
      "True                         \n",
      "0          17458  2840  20298\n",
      "1            801  1504   2305\n",
      "All        18259  4344  22603\n",
      "\n",
      "             precision    recall  f1-score   support\n",
      "\n",
      "          0       0.96      0.86      0.91     20298\n",
      "          1       0.35      0.65      0.45      2305\n",
      "\n",
      "avg / total       0.89      0.84      0.86     22603\n",
      "\n"
     ]
    }
   ],
   "source": [
    "print(\"oog train set:\")\n",
    "print_cm(Ytrain_ind,train_oog_indc)\n",
    "print(\"\")\n",
    "print(classification_report(Ytrain_ind,train_oog_indc))\n",
    "\n",
    "print(\"\\n ---- \\n\")\n",
    "\n",
    "print(\"oog test set:\")\n",
    "print_cm(Ytest_ind,test_oog_indc)\n",
    "print(\"\")\n",
    "print(classification_report(Ytest_ind,test_oog_indc))\n"
   ]
  },
  {
   "cell_type": "markdown",
   "metadata": {},
   "source": [
    "** auc summary **"
   ]
  },
  {
   "cell_type": "code",
   "execution_count": 18,
   "metadata": {},
   "outputs": [
    {
     "data": {
      "image/png": "[encoded data removed]",
      "text/plain": [
       "<matplotlib.figure.Figure at 0x7f07741cce48>"
      ]
     },
     "metadata": {},
     "output_type": "display_data"
    }
   ],
   "source": [
    "y_test  = Ytest_ind\n",
    "y_pred  = test_clf_prob\n",
    "\n",
    "average_precision = average_precision_score(y_test, y_pred)\n",
    "precision, recall, _ = precision_recall_curve(y_test, y_pred)\n",
    "\n",
    "plt.step(recall, precision, color='b', alpha=0.2,where='post')\n",
    "plt.fill_between(recall, precision, step='post', alpha=0.2,color='b')\n",
    "\n",
    "plt.xlabel('Recall')\n",
    "plt.ylabel('Precision')\n",
    "plt.ylim([0.0, 1.05])\n",
    "plt.xlim([0.0, 1.0])\n",
    "plt.title(\"clf\")\n",
    "plt.show()"
   ]
  },
  {
   "cell_type": "code",
   "execution_count": 19,
   "metadata": {},
   "outputs": [
    {
     "data": {
      "image/png": "[encoded data removed]",
      "text/plain": [
       "<matplotlib.figure.Figure at 0x7f074e5bebe0>"
      ]
     },
     "metadata": {},
     "output_type": "display_data"
    }
   ],
   "source": [
    "y_test  = Ytest_ind\n",
    "y_pred  = test_zi_reg\n",
    "\n",
    "average_precision = average_precision_score(y_test, y_pred)\n",
    "precision, recall, _ = precision_recall_curve(y_test, y_pred)\n",
    "\n",
    "\n",
    "from sklearn.metrics import roc_curve, auc\n",
    "fpr_clf, tpr_clf, _ = roc_curve(y_test, test_clf_prob)\n",
    "fpr_svg, tpr_svg, _ = roc_curve(y_test, test_svg_reg)\n",
    "fpr_oog, tpr_oog, _ = roc_curve(y_test, test_oog_reg)\n",
    "fpr, tpr, _ = roc_curve(y_test, y_pred)\n",
    "\n",
    "# fpr_zi, tpr_zi, _ = roc_curve(y_test, test_zi_indc)\n",
    "# fpr_hdl, tpr_hdl, _ = roc_curve(y_test, test_hdl_indc)\n",
    "# plt.plot(fpr_zi,tpr_zi,label=\"zi\")\n",
    "# plt.plot(fpr_hdl,tpr_hdl,label=\"hdl\")\n",
    "\n",
    "plt.plot(fpr_clf,tpr_clf,label=\"clf\")\n",
    "plt.plot(fpr_svg,tpr_svg,label=\"svg\")\n",
    "plt.plot(fpr_oog,tpr_oog,label=\"oog\")\n",
    "plt.xlabel('fpr')\n",
    "plt.ylabel('tpr')\n",
    "plt.legend()\n",
    "plt.plot([0, 1], [0, 1])\n",
    "plt.ylim([0.0, 1.05])\n",
    "plt.xlim([0.0, 1.0])\n",
    "plt.show()"
   ]
  },
  {
   "cell_type": "code",
   "execution_count": 20,
   "metadata": {},
   "outputs": [
    {
     "data": {
      "image/png": "[encoded data removed]",
      "text/plain": [
       "<matplotlib.figure.Figure at 0x7f0776287048>"
      ]
     },
     "metadata": {},
     "output_type": "display_data"
    }
   ],
   "source": [
    "y_test  = Ytest_ind\n",
    "y_pred  = test_hdl_reg\n",
    "\n",
    "average_precision = average_precision_score(y_test, y_pred)\n",
    "precision, recall, _ = precision_recall_curve(y_test, y_pred)\n",
    "\n",
    "plt.step(recall, precision, color='b', alpha=0.2,where='post')\n",
    "plt.fill_between(recall, precision, step='post', alpha=0.2,color='b')\n",
    "\n",
    "plt.xlabel('Recall')\n",
    "plt.ylabel('Precision')\n",
    "plt.ylim([0.0, 1.05])\n",
    "plt.xlim([0.0, 1.0])\n",
    "plt.title(\"hdl\")\n",
    "plt.show()"
   ]
  },
  {
   "cell_type": "code",
   "execution_count": 21,
   "metadata": {},
   "outputs": [
    {
     "data": {
      "image/png": "[encoded data removed]",
      "text/plain": [
       "<matplotlib.figure.Figure at 0x7f078d114a20>"
      ]
     },
     "metadata": {},
     "output_type": "display_data"
    }
   ],
   "source": [
    "y_test  = Ytest_ind\n",
    "y_pred  = test_svg_reg\n",
    "\n",
    "average_precision = average_precision_score(y_test, y_pred)\n",
    "precision, recall, _ = precision_recall_curve(y_test, y_pred)\n",
    "\n",
    "plt.step(recall, precision, color='b', alpha=0.2,where='post')\n",
    "plt.fill_between(recall, precision, step='post', alpha=0.2,color='b')\n",
    "\n",
    "plt.xlabel('Recall')\n",
    "plt.ylabel('Precision')\n",
    "plt.ylim([0.0, 1.05])\n",
    "plt.xlim([0.0, 1.0])\n",
    "plt.title(\"svg\")\n",
    "plt.show()"
   ]
  },
  {
   "cell_type": "code",
   "execution_count": 22,
   "metadata": {},
   "outputs": [
    {
     "data": {
      "image/png": "[encoded data removed]",
      "text/plain": [
       "<matplotlib.figure.Figure at 0x7f074e631cf8>"
      ]
     },
     "metadata": {},
     "output_type": "display_data"
    }
   ],
   "source": [
    "y_test  = Ytest_ind\n",
    "y_pred  = test_oog_reg\n",
    "\n",
    "average_precision = average_precision_score(y_test, y_pred)\n",
    "precision, recall, _ = precision_recall_curve(y_test, y_pred)\n",
    "\n",
    "plt.step(recall, precision, color='b', alpha=0.2,where='post')\n",
    "plt.fill_between(recall, precision, step='post', alpha=0.2,color='b')\n",
    "\n",
    "plt.xlabel('Recall')\n",
    "plt.ylabel('Precision')\n",
    "plt.ylim([0.0, 1.05])\n",
    "plt.xlim([0.0, 1.0])\n",
    "plt.title(\"oog\")\n",
    "plt.show()"
   ]
  },
  {
   "cell_type": "code",
   "execution_count": 32,
   "metadata": {},
   "outputs": [
    {
     "name": "stderr",
     "output_type": "stream",
     "text": [
      "/u/52/hegdep1/unix/.conda/envs/tf13/lib/python3.6/site-packages/sklearn/metrics/classification.py:1135: UndefinedMetricWarning: Precision and F-score are ill-defined and being set to 0.0 in labels with no predicted samples.\n",
      "  'precision', 'predicted', average, warn_for)\n"
     ]
    }
   ],
   "source": [
    "from sklearn.metrics import precision_recall_fscore_support\n",
    "\n",
    "prc_00, rec_00,_,_ = precision_recall_fscore_support(Ytrain_ind,train_00_indc)\n",
    "prc_clf, rec_clf,_,_ = precision_recall_fscore_support(Ytrain_ind,train_clf_indc)\n",
    "prc_zi, rec_zi,_,_ = precision_recall_fscore_support(Ytrain_ind,train_zi_indc)\n",
    "prc_hdl, rec_hdl,_,_ = precision_recall_fscore_support(Ytrain_ind,train_hdl_indc)\n",
    "prc_svg, rec_svg,_,_ = precision_recall_fscore_support(Ytrain_ind,train_svg_indc)\n",
    "prc_oog, rec_oog,_,_ = precision_recall_fscore_support(Ytrain_ind,train_oog_indc)\n",
    "\n"
   ]
  }
 ],
 "metadata": {
  "kernelspec": {
   "display_name": "Python [conda env:tf13]",
   "language": "python",
   "name": "conda-env-tf13-py"
  },
  "language_info": {
   "codemirror_mode": {
    "name": "ipython",
    "version": 3
   },
   "file_extension": ".py",
   "mimetype": "text/x-python",
   "name": "python",
   "nbconvert_exporter": "python",
   "pygments_lexer": "ipython3",
   "version": "3.6.3"
  }
 },
 "nbformat": 4,
 "nbformat_minor": 2
}
